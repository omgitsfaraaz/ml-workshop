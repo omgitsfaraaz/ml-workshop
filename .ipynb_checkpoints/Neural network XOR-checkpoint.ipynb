{
 "cells": [
  {
   "cell_type": "code",
   "execution_count": 1,
   "metadata": {},
   "outputs": [],
   "source": [
    "import numpy as np\n",
    "import pandas as pd"
   ]
  },
  {
   "cell_type": "code",
   "execution_count": 6,
   "metadata": {},
   "outputs": [],
   "source": [
    "x = np.array([[0,0,0],\n",
    "                     [0,0,1],\n",
    "                     [0,1,0],\n",
    "                     [1,1,0],\n",
    "                     [1,0,1],\n",
    "                     [1,1,1]])\n",
    "\n",
    "y = np.array([[0],\n",
    "             [1],\n",
    "             [1],\n",
    "             [0],\n",
    "             [0],\n",
    "             [1]])"
   ]
  },
  {
   "cell_type": "code",
   "execution_count": 7,
   "metadata": {},
   "outputs": [
    {
     "data": {
      "text/plain": [
       "array([[0],\n",
       "       [1],\n",
       "       [1],\n",
       "       [0],\n",
       "       [0],\n",
       "       [1]])"
      ]
     },
     "execution_count": 7,
     "metadata": {},
     "output_type": "execute_result"
    }
   ],
   "source": [
    "y"
   ]
  },
  {
   "cell_type": "code",
   "execution_count": 9,
   "metadata": {},
   "outputs": [
    {
     "data": {
      "text/html": [
       "<div>\n",
       "<style scoped>\n",
       "    .dataframe tbody tr th:only-of-type {\n",
       "        vertical-align: middle;\n",
       "    }\n",
       "\n",
       "    .dataframe tbody tr th {\n",
       "        vertical-align: top;\n",
       "    }\n",
       "\n",
       "    .dataframe thead th {\n",
       "        text-align: right;\n",
       "    }\n",
       "</style>\n",
       "<table border=\"1\" class=\"dataframe\">\n",
       "  <thead>\n",
       "    <tr style=\"text-align: right;\">\n",
       "      <th></th>\n",
       "      <th>a</th>\n",
       "      <th>b</th>\n",
       "      <th>c</th>\n",
       "      <th>o/p</th>\n",
       "    </tr>\n",
       "  </thead>\n",
       "  <tbody>\n",
       "    <tr>\n",
       "      <th>0</th>\n",
       "      <td>0</td>\n",
       "      <td>0</td>\n",
       "      <td>0</td>\n",
       "      <td>0</td>\n",
       "    </tr>\n",
       "    <tr>\n",
       "      <th>1</th>\n",
       "      <td>0</td>\n",
       "      <td>0</td>\n",
       "      <td>1</td>\n",
       "      <td>1</td>\n",
       "    </tr>\n",
       "    <tr>\n",
       "      <th>2</th>\n",
       "      <td>0</td>\n",
       "      <td>1</td>\n",
       "      <td>0</td>\n",
       "      <td>1</td>\n",
       "    </tr>\n",
       "    <tr>\n",
       "      <th>3</th>\n",
       "      <td>1</td>\n",
       "      <td>1</td>\n",
       "      <td>0</td>\n",
       "      <td>0</td>\n",
       "    </tr>\n",
       "    <tr>\n",
       "      <th>4</th>\n",
       "      <td>1</td>\n",
       "      <td>0</td>\n",
       "      <td>1</td>\n",
       "      <td>0</td>\n",
       "    </tr>\n",
       "    <tr>\n",
       "      <th>5</th>\n",
       "      <td>1</td>\n",
       "      <td>1</td>\n",
       "      <td>1</td>\n",
       "      <td>1</td>\n",
       "    </tr>\n",
       "  </tbody>\n",
       "</table>\n",
       "</div>"
      ],
      "text/plain": [
       "   a  b  c  o/p\n",
       "0  0  0  0    0\n",
       "1  0  0  1    1\n",
       "2  0  1  0    1\n",
       "3  1  1  0    0\n",
       "4  1  0  1    0\n",
       "5  1  1  1    1"
      ]
     },
     "execution_count": 9,
     "metadata": {},
     "output_type": "execute_result"
    }
   ],
   "source": [
    "xd = pd.DataFrame(x, columns=[\"a\", \"b\", \"c\"])\n",
    "yd = pd.DataFrame(y, columns=[\"o/p\"])\n",
    "table = pd.concat([xd,yd], axis=1)\n",
    "table"
   ]
  },
  {
   "cell_type": "code",
   "execution_count": 10,
   "metadata": {},
   "outputs": [],
   "source": [
    "# Activation Function\n",
    "def sigmoid(x):\n",
    "    return 1 / (1 + np.exp(-x))\n",
    "\n",
    "# Transfer Derivative\n",
    "def dsigmoid(x):\n",
    "    return x * (1 - x)"
   ]
  },
  {
   "cell_type": "code",
   "execution_count": 12,
   "metadata": {},
   "outputs": [],
   "source": [
    "def feed_forward(x, w0, w1):\n",
    "    # Input Layer\n",
    "    layer0 = x\n",
    "    \n",
    "    # Hidden Layer\n",
    "    z1 = np.dot(layer0, w0)\n",
    "    layer1 = sigmoid(z1)\n",
    "    \n",
    "    # Output Layer\n",
    "    layer2 = sigmoid(np.dot(layer1, w1))\n",
    "    \n",
    "    return layer0, layer1, layer2\n",
    "    \n",
    "    "
   ]
  },
  {
   "cell_type": "code",
   "execution_count": 22,
   "metadata": {},
   "outputs": [],
   "source": [
    "def backpropogate(i, layer0, layer1, layer2, w0, w1, y, lr):\n",
    "    # Layer 2 (Output Layer)\n",
    "    l2_error = layer2 - y\n",
    "    \n",
    "    l2_delta = l2_error * dsigmoid(layer2)\n",
    "    \n",
    "    l2_grad = np.dot(layer1.T, l2_delta)\n",
    "    \n",
    "    # Layer 1 (Hidden Layer)\n",
    "    l1_error = l2_delta.dot(w1.T)\n",
    "    l1_delta = l1_error * dsigmoid(layer1)\n",
    "    l1_grad = np.dot(layer0.T, l1_delta)\n",
    "    \n",
    "    w1 = w1 - (l2_grad * lr)\n",
    "    w0 = w0 - (l1_grad * lr)\n",
    "    \n",
    "    loss = np.mean(np.power(l2_error, 2))\n",
    "    loss_curve.append(loss)\n",
    "    \n",
    "    if i%1000 ==0:\n",
    "        print(loss)\n",
    "        \n",
    "    return w0, w1 \n",
    "        \n",
    "        \n",
    "    "
   ]
  },
  {
   "cell_type": "code",
   "execution_count": 27,
   "metadata": {},
   "outputs": [],
   "source": [
    "w0 = np.random.random((3,4))\n",
    "w1 = np.random.random((4,1))\n",
    "\n",
    "loss_curve = []\n",
    "iterations = range(10000)\n",
    "lr = 0.01"
   ]
  },
  {
   "cell_type": "code",
   "execution_count": 28,
   "metadata": {},
   "outputs": [
    {
     "name": "stdout",
     "output_type": "stream",
     "text": [
      "0.30353892197237614\n",
      "0.24713052633346008\n",
      "0.2407968706979252\n",
      "0.2269989253627405\n",
      "0.1979262550761567\n",
      "0.15061822572002262\n",
      "0.10137781509044623\n",
      "0.06666901266201442\n",
      "0.04551246445131998\n",
      "0.032608291770952334\n"
     ]
    }
   ],
   "source": [
    "for j in iterations:\n",
    "    a0, a1, a2 = feed_forward(x, w0, w1)\n",
    "    w0, w1 = backpropogate(j, a0, a1, a2, w0, w1, y, lr)"
   ]
  },
  {
   "cell_type": "code",
   "execution_count": 29,
   "metadata": {},
   "outputs": [],
   "source": [
    "ip, hd, op = feed_forward(x, w0, w1)"
   ]
  },
  {
   "cell_type": "code",
   "execution_count": 30,
   "metadata": {},
   "outputs": [
    {
     "data": {
      "text/plain": [
       "array([[0.233899  ],\n",
       "       [0.87742555],\n",
       "       [0.88760014],\n",
       "       [0.12522451],\n",
       "       [0.12550398],\n",
       "       [0.81880345]])"
      ]
     },
     "execution_count": 30,
     "metadata": {},
     "output_type": "execute_result"
    }
   ],
   "source": [
    "op"
   ]
  },
  {
   "cell_type": "code",
   "execution_count": 32,
   "metadata": {},
   "outputs": [
    {
     "data": {
      "text/plain": [
       "[<matplotlib.lines.Line2D at 0x4b29df3240>]"
      ]
     },
     "execution_count": 32,
     "metadata": {},
     "output_type": "execute_result"
    },
    {
     "data": {
      "image/png": "[encoded data removed]",
      "text/plain": [
       "<Figure size 432x288 with 1 Axes>"
      ]
     },
     "metadata": {},
     "output_type": "display_data"
    }
   ],
   "source": [
    "import matplotlib.pyplot as plt\n",
    "%matplotlib inline\n",
    "\n",
    "plt.plot(iterations, loss_curve, 'r')"
   ]
  },
  {
   "cell_type": "code",
   "execution_count": null,
   "metadata": {},
   "outputs": [],
   "source": []
  }
 ],
 "metadata": {
  "kernelspec": {
   "display_name": "Python 3",
   "language": "python",
   "name": "python3"
  },
  "language_info": {
   "codemirror_mode": {
    "name": "ipython",
    "version": 3
   },
   "file_extension": ".py",
   "mimetype": "text/x-python",
   "name": "python",
   "nbconvert_exporter": "python",
   "pygments_lexer": "ipython3",
   "version": "3.6.5"
  }
 },
 "nbformat": 4,
 "nbformat_minor": 2
}
